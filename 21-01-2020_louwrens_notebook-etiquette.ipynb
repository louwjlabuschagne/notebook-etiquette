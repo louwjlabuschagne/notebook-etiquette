{
 "cells": [
  {
   "cell_type": "markdown",
   "metadata": {},
   "source": [
    "# Notebook Etiquette"
   ]
  },
  {
   "cell_type": "markdown",
   "metadata": {},
   "source": [
    "## Introduction"
   ]
  },
  {
   "cell_type": "markdown",
   "metadata": {},
   "source": [
    "Why a session on notebook etiquette? Because it is important, really important! Knowing when to use which tool in your programming arsenal makes the difference between completing a task in 1 day vs taking 5 days and still things are wonky.\n",
    "\n",
    "<img src='https://www.dataquest.io/wp-content/uploads/2019/01/interface-screenshot.png' width='60%'>\n",
    "\n",
    "In this notebook we'll look at some common mistakes I've seen people make in notebooks as well as inform you of some sneaky, cool and sometimes very useful add-ons that you can use in your notebooks.\n",
    "\n",
    "<img src='https://code.visualstudio.com/assets/updates/1_37/icons.gif' width='60%'>\n",
    "\n",
    "IDE's like Atom, VS Code, Sublime Text are great, and they have their place, don't get me wrong. Similarly, notebooks are great, but also have their place along with pro's and con's for certain tasks.\n",
    "\n",
    "The most important difference for me personally, is that notebooks should be _more_ than code, much more! If you just want to run your code from top to bottom, then use a script - seriously you'll be beter off. No more forgetting about which cells ran first or having to deal with variables having rando values. \n",
    "\n",
    "Notebooks are more than scripts! And should be treated as such. Think of a notebook as a report or an essay, or even a piece of art, if you like. Eitherway, your notebooks are a piece of you that you put into the world and you should be proud of them. Difficult to do if it's just code cells that barely run top to bottom... \n",
    "\n",
    "You might be thinking, but I just want to code and get the job done. And I hear you. However, I would like to convice you that spicing up your notebooks don't need to take any _more_ time than you're currenlty spending on your notebooks. How? Easily, you know those times where you are waiting for data from a DB - scroll up to the top of your notebook and **start refactoring!**\n",
    "\n",
    "Not only is this great small excerises in refactoring code, but your notebook just keeps improving everytime your queries start running. In other words, no extra time spent on your notebook, but the quality has increase tremendiously."
   ]
  },
  {
   "cell_type": "markdown",
   "metadata": {},
   "source": [
    "## Naming and structure "
   ]
  },
  {
   "cell_type": "markdown",
   "metadata": {},
   "source": [
    "### Naming"
   ]
  },
  {
   "cell_type": "markdown",
   "metadata": {},
   "source": [
    "There are no perfect solutions here, but the idea is for you and your team to choose a format **and stick to it!**\n",
    "\n",
    "A good suggestion I've encountered and I've standarised my workflow to include, is naming notebooks in the format: `date_user_name`. For example, this notebook's name is:\n",
    "\n",
    "<br>\n",
    "<div style=\"text-align: center\">\n",
    "21-01-2020_louwrens_notebook-etiquette.ipynb\n",
    "</div>\n",
    "<br>\n",
    "\n",
    "There are a few reasons for this naming convension - especially if you're working in teams. Originally, I tried to keep track of which notebook follows on which by including a number before hand, as in: `1_name1.ipynb` and `2_name2.ipynb`. As soon as I started working in a team and people were naming 3 notebooks starting with `1_` it wasn't a viable option anymore. With the above format, the progression of notebook development is also captured by the date, and along with the user it is easy to trace back which notebook follows on which.\n",
    "\n",
    "Another great advantage of standising not only notebooks, but all your team's files in this format, is that you can filter notebooks easily in the CLI. For example, if I wanted all the notebooks for January I could pipe my notebook folder to grep. I've created a example-notebooks directory with 4 files:"
   ]
  },
  {
   "cell_type": "code",
   "execution_count": 1,
   "metadata": {
    "ExecuteTime": {
     "end_time": "2020-01-22T04:51:37.529476Z",
     "start_time": "2020-01-22T04:51:37.401438Z"
    }
   },
   "outputs": [
    {
     "name": "stdout",
     "output_type": "stream",
     "text": [
      "total 0\r\n",
      "-rw-r--r--  1 louwjlab  staff  0 Jan 21 14:11 03-01-2020_louwrens_a-notebook.ipynb\r\n",
      "-rw-r--r--  1 louwjlab  staff  0 Jan 21 14:11 10-01-2020_ruan_another-notebook.ipynb\r\n",
      "-rw-r--r--  1 louwjlab  staff  0 Jan 21 14:11 21-12-2019_louwrens_another.ipynb\r\n",
      "-rw-r--r--  1 louwjlab  staff  0 Jan 21 14:11 29-12-2019_ongama_yet-another.ipynb\r\n"
     ]
    }
   ],
   "source": [
    "ll example_notebooks/"
   ]
  },
  {
   "cell_type": "markdown",
   "metadata": {},
   "source": [
    "We could filter these notebooks for notebooks only written by louwrens:"
   ]
  },
  {
   "cell_type": "code",
   "execution_count": 2,
   "metadata": {
    "ExecuteTime": {
     "end_time": "2020-01-22T04:51:37.662597Z",
     "start_time": "2020-01-22T04:51:37.532253Z"
    }
   },
   "outputs": [
    {
     "name": "stdout",
     "output_type": "stream",
     "text": [
      "-rw-r--r--  1 louwjlab  staff    0 Jan 21 14:11 21-12-2019_\u001b[01;31m\u001b[Klouwrens\u001b[m\u001b[K_another.ipynb\r\n",
      "-rw-r--r--  1 louwjlab  staff    0 Jan 21 14:11 03-01-2020_\u001b[01;31m\u001b[Klouwrens\u001b[m\u001b[K_a-notebook.ipynb\r\n"
     ]
    }
   ],
   "source": [
    "!ls -ltra example_notebooks/ | grep --color=auto louwrens"
   ]
  },
  {
   "cell_type": "markdown",
   "metadata": {},
   "source": [
    "### Structure"
   ]
  },
  {
   "cell_type": "markdown",
   "metadata": {},
   "source": [
    "Agian, there is no perfect structure. But formalising one for yourself helps! At least for the things that you'll always be doing, like importing, setting constants, etc.\n",
    "\n",
    "Currently I'm using the following structure:\n",
    "\n",
    "```\n",
    "# Title\n",
    "    ## Introduction\n",
    "    ## Setup\n",
    "        ### Imports\n",
    "        ### Config\n",
    "        ### Variables\n",
    "    ## Getting Data\n",
    "    \n",
    "    ## The meat, cause you never know where it's going\n",
    "    \n",
    "    ## Export/Checkpoint\n",
    "    ## Conclusion \n",
    "```"
   ]
  },
  {
   "cell_type": "markdown",
   "metadata": {},
   "source": [
    "If you aren't using jupyter notebook extensions, I highly suggest you do. You can install it by following the instruction on their github repo: https://github.com/ipython-contrib/jupyter_contrib_nbextensions\n",
    "\n",
    "<img src='https://raw.githubusercontent.com/Jupyter-contrib/jupyter_nbextensions_configurator/master/src/jupyter_nbextensions_configurator/static/nbextensions_configurator/icon.png' width='80%'>\n",
    "\n",
    "Two of my favorite extensions are `Table of Content` and `Collapsable Headings`. If give each heading of a section its own markdown cell, then you can collapse these sections using the `Collapsable Headings`, and with the `Table of Content` extension navigating your notebook is a brease. For example:"
   ]
  },
  {
   "cell_type": "markdown",
   "metadata": {
    "heading_collapsed": true
   },
   "source": [
    "### Section A"
   ]
  },
  {
   "cell_type": "markdown",
   "metadata": {
    "hidden": true
   },
   "source": [
    "Words "
   ]
  },
  {
   "cell_type": "markdown",
   "metadata": {
    "heading_collapsed": true,
    "hidden": true
   },
   "source": [
    "#### Sub Section A"
   ]
  },
  {
   "cell_type": "markdown",
   "metadata": {
    "hidden": true
   },
   "source": [
    "Blah"
   ]
  },
  {
   "cell_type": "markdown",
   "metadata": {
    "heading_collapsed": true,
    "hidden": true
   },
   "source": [
    "#### Sub Section B"
   ]
  },
  {
   "cell_type": "markdown",
   "metadata": {
    "hidden": true
   },
   "source": [
    "Blah"
   ]
  },
  {
   "cell_type": "markdown",
   "metadata": {
    "heading_collapsed": true,
    "hidden": true
   },
   "source": [
    "#### Sub Section C"
   ]
  },
  {
   "cell_type": "markdown",
   "metadata": {
    "hidden": true
   },
   "source": [
    "Blah"
   ]
  },
  {
   "cell_type": "markdown",
   "metadata": {
    "heading_collapsed": true
   },
   "source": [
    "### Section B"
   ]
  },
  {
   "cell_type": "markdown",
   "metadata": {
    "hidden": true
   },
   "source": [
    "More words"
   ]
  },
  {
   "cell_type": "markdown",
   "metadata": {
    "heading_collapsed": true
   },
   "source": [
    "### Final Section"
   ]
  },
  {
   "cell_type": "markdown",
   "metadata": {
    "hidden": true
   },
   "source": [
    "Words"
   ]
  },
  {
   "cell_type": "markdown",
   "metadata": {},
   "source": [
    "## How to Use markdown effectively"
   ]
  },
  {
   "cell_type": "markdown",
   "metadata": {},
   "source": [
    "Did you know you can use **any** html in notebooks? It litterally a website. If you want to embed an image of a cat, use an `<img>` tag:\n",
    "\n",
    "```html\n",
    "<img src='https://www.animeoutline.com/wp-content/uploads/2018/06/anime_cat_drawing.png' width='30%>\n",
    "```\n",
    "\n",
    "<img src='https://www.animeoutline.com/wp-content/uploads/2018/06/anime_cat_drawing.png' width='30%'>\n",
    "\n",
    "Oooo 😳, that's some nice HTML syntax highlighting... Remember when you are in a markdown cell and you use the 3 backticks (\\`\\`\\`) for a block of code, you can state which languge it is at the top of the three ticks, for `html` example:\n",
    "\n",
    "````    \n",
    "```html\n",
    "<img src='https://www.animeoutline.com/wp-content/uploads/2018/06/anime_cat_drawing.png' width='30%>\n",
    "```\n",
    "````             \n",
    "\n",
    "renders as:\n",
    "\n",
    "```html\n",
    "<img src='https://www.animeoutline.com/wp-content/uploads/2018/06/anime_cat_drawing.png' width='30%>\n",
    "```\n",
    "\n",
    "and, \n",
    "\n",
    "````    \n",
    "```python\n",
    "import numpy as np \n",
    "print(np.pi)\n",
    "\n",
    "def a_function(arg1):\n",
    "    pass\n",
    "```\n",
    "````             \n",
    "\n",
    "renders as:\n",
    "\n",
    "```python\n",
    "import numpy as np \n",
    "print(np.pi)\n",
    "\n",
    "def a_function(arg1):\n",
    "    pass\n",
    "```"
   ]
  },
  {
   "cell_type": "markdown",
   "metadata": {},
   "source": [
    "Other common things that will just set your noteobooks appart is using markdown tables, instead of leaving your pandas dataframe hanging - more on this later. \n",
    "\n",
    "Markdown tables have the basic format:\n",
    "\n",
    "```\n",
    "|Normal Header| Right Aligned Header  | Centered Header |\n",
    "|-------------| --------------------: | :-------------: |\n",
    "|Normal Cell  | Right Cell            | Centered Cell   |\n",
    "|Normal Cell  | Right Cell            | Centered Cell   |\n",
    "```\n",
    "\n",
    "Colons can be used to align columns.\n",
    "\n",
    "\n",
    "|Normal Header| Right Aligned Header  | Centered Header |\n",
    "|-------------| --------------------: | :-------------: |\n",
    "|Normal Cell  | Right Cell            | Centered Cell  |\n",
    "|Normal Cell  | Right Cell            | Centered Cell  |\n",
    "\n",
    "\n",
    "There must be at least 3 dashes separating each header cell.\n",
    "The outer pipes (|) are optional, and you don't need to make the \n",
    "raw Markdown line up prettily. You can also use inline Markdown.\n",
    "\n",
    "Markdown | Less | Pretty\n",
    "--- | --- | ---\n",
    "*Still* | `renders` | **nicely**\n",
    "1 | 2 | 3"
   ]
  },
  {
   "cell_type": "markdown",
   "metadata": {},
   "source": [
    "You'll try and make your own markdown table, and hate it! Because you don't create your own markdown table, you generate it using: https://www.tablesgenerator.com/markdown_tables or convert a csv to markdown table using https://www.convertcsv.com/csv-to-markdown.htm. Or you can just use an HTML table.\n",
    "\n",
    "The main value of markdown tables is also their downfall. Their content doesn't change when your data changes. Although this might sound like a downside, sometimes it is actually favourable, as you start aiming to write more determenistic notebooks. Notebooks where the output is constant no matter who runs it - saving the dataset your using in your notebook to a pickle is highly adviced - also this will stop you waiting to query data every time. Altough we've seen that too isn't that bad as it improves your notebooks...\n",
    "\n",
    "For more markdown hints, check out the cheatsheet: https://github.com/adam-p/markdown-here/wiki/Markdown-Cheatsheet."
   ]
  },
  {
   "cell_type": "markdown",
   "metadata": {},
   "source": [
    "## Variables"
   ]
  },
  {
   "cell_type": "markdown",
   "metadata": {},
   "source": [
    "We've all been there. Running a cell in a notebook and the output is not at all what it sound be as we've re-run so many other cells that the values have been mixed up and we need to run everything again. This wastes a lot of time you could be spending doing something else, like improving your notebook... 😉\n",
    "\n",
    "So how to get around this, place all _varying_ variables at the top in the `Setup` section and only overwrite variables in the notebook if you _really_ have to, but creating new variables is ideal... Again don't create new variables for everthing - find a balance. \n",
    "\n",
    "Personally, I don't mind writing some complex pandas pipeline and assign the result to a new DataFrame, but take a step back and think what makes logical sense to group in each pipeline. \n",
    "\n",
    "A good example of this is when your have a datetime windows, what I suggest you do is, on the top of your notebook declare 2 variables, `start_time` and `end_time` and save the output of your DB query using these variables, for example:\n",
    "\n",
    "```python\n",
    "start_time = '2020-01-02 00:00:00'\n",
    "end_time = '2020-01-05 00:00:00'\n",
    "\n",
    "sql = f'''\n",
    "...\n",
    "WHERE DATETIME >= {startime}\n",
    "AND DATETIME <= {end_time}\n",
    "'''\n",
    "\n",
    "filename = Path(f'./data/output_{startime}_{end_time}.pck')\n",
    "\n",
    "if filename.exists():\n",
    "    print('file exists, reading in')\n",
    "    df = pd.from_pickle(filename)\n",
    "else:\n",
    "    print('file not found, querying')\n",
    "    df = query_db(sql)\n",
    "    df.to_pickle(filename)s\n",
    "```"
   ]
  },
  {
   "cell_type": "markdown",
   "metadata": {},
   "source": [
    "## Passwords"
   ]
  },
  {
   "cell_type": "markdown",
   "metadata": {},
   "source": [
    "You have 2 choices here, but I'll advocate using the later. You can use the `getpass` module to ask for your password when you run your notebook, but then you loose the ability to just hit `Kernel > Reset & Run All`, which should be a go to for your notebook, btw. "
   ]
  },
  {
   "cell_type": "code",
   "execution_count": 3,
   "metadata": {
    "ExecuteTime": {
     "end_time": "2020-01-22T04:51:37.668986Z",
     "start_time": "2020-01-22T04:51:37.665813Z"
    }
   },
   "outputs": [],
   "source": [
    "from getpass import getpass"
   ]
  },
  {
   "cell_type": "code",
   "execution_count": 4,
   "metadata": {
    "ExecuteTime": {
     "end_time": "2020-01-22T04:51:40.212588Z",
     "start_time": "2020-01-22T04:51:37.671292Z"
    }
   },
   "outputs": [
    {
     "name": "stdout",
     "output_type": "stream",
     "text": [
      "Password for: pyman········\n"
     ]
    }
   ],
   "source": [
    "db_user = 'pyman'\n",
    "db_password = getpass(f'Password for: {db_user}')"
   ]
  },
  {
   "cell_type": "code",
   "execution_count": 5,
   "metadata": {
    "ExecuteTime": {
     "end_time": "2020-01-22T04:51:40.231610Z",
     "start_time": "2020-01-22T04:51:40.215094Z"
    }
   },
   "outputs": [
    {
     "data": {
      "text/plain": [
       "('pyman', 'asdf')"
      ]
     },
     "execution_count": 5,
     "metadata": {},
     "output_type": "execute_result"
    }
   ],
   "source": [
    "db_user, db_password"
   ]
  },
  {
   "cell_type": "markdown",
   "metadata": {},
   "source": [
    "Rather, use the `configparser` module and store usernames and passwords in a config file. Just remember to place the config file in your `.gitignore`, otherwise it defeats the purpose of not pushing passwords to git."
   ]
  },
  {
   "cell_type": "code",
   "execution_count": 6,
   "metadata": {
    "ExecuteTime": {
     "end_time": "2020-01-22T04:51:40.246078Z",
     "start_time": "2020-01-22T04:51:40.235524Z"
    }
   },
   "outputs": [],
   "source": [
    "from configparser import ConfigParser\n",
    "from pathlib import Path"
   ]
  },
  {
   "cell_type": "code",
   "execution_count": 7,
   "metadata": {
    "ExecuteTime": {
     "end_time": "2020-01-22T04:51:40.257261Z",
     "start_time": "2020-01-22T04:51:40.248972Z"
    }
   },
   "outputs": [
    {
     "data": {
      "text/plain": [
       "(\"'pyman'\", \"'@sdF'\")"
      ]
     },
     "execution_count": 7,
     "metadata": {},
     "output_type": "execute_result"
    }
   ],
   "source": [
    "config_file = Path('config.ini')\n",
    "assert config_file.exists(), '{config_file} doesn\\'t exist.'\n",
    "config = ConfigParser()\n",
    "config.read(config_file)\n",
    "\n",
    "config['OPTIMA']['USER'], config['OPTIMA']['PASSWORD']"
   ]
  },
  {
   "cell_type": "markdown",
   "metadata": {
    "ExecuteTime": {
     "end_time": "2020-01-21T13:10:40.791431Z",
     "start_time": "2020-01-21T13:10:40.786973Z"
    }
   },
   "source": [
    "## When to stop a notebook?"
   ]
  },
  {
   "cell_type": "markdown",
   "metadata": {},
   "source": [
    "When it has reached it's purpose set out in the Introduction. The same reasoning applies to writing notebook, as for writing functions. Write the docstring first! How do you know when your function is done if you don't know what it should do. For example, instead of writing\n",
    "\n",
    "```python\n",
    "def calc_area(a,b):\n",
    "    return a*b\n",
    "```\n",
    "\n",
    "and then straight away jumping into codeing, rather first define the purpose of the function:\n",
    "\n",
    "```python\n",
    "def calc_area(a,b):\n",
    "    \"\"\"\n",
    "    Function that calculates the area of a and b if a and b are the edges of a rectangle.\n",
    "    \n",
    "    Parameters\n",
    "    a (int): First side of rectangle\n",
    "    b (int): Second side of rectangle\n",
    "    \"\"\"\n",
    "```\n",
    "\n",
    "Instantly we've gotten our thought together and realised that `calc_area` is maybe a bad name, perhaps `calc_area_rect`, or `calc_area(a,b,type='rect')` could work better. But the idea is that if you define what your function must do before you write it, you don't juse mindlesly jump in and start tinkering. Rather, you know where you're going, and more importantly when you've arrived.\n",
    "\n",
    "Simlarly, with a notebook, in the Introduction state what you would like to achieve with this notebook, before you start writing it. That way, you know when you're done.\n",
    "\n",
    "It is then advised that, especially if you are going on with analysis on the same dataset, that you make a checkpoint dataframe, something like `./data/21-01-2020_louwrens_notebook-etiquette_df.pck`. That way you can just read in this pickle in your next notebook, and you don't have to rerun all the code in this notebook. But, if you would like to rerun the analsyis for a different period, then you can rerun both notebooks in order. \n",
    "\n",
    "**Remember!** Add all `./data` directories to `.gitignore` and all pickle extensions, `.pck, .pkl, etc.`. Why? Let me explain:"
   ]
  },
  {
   "cell_type": "markdown",
   "metadata": {},
   "source": [
    "### Overview of how git works"
   ]
  },
  {
   "cell_type": "markdown",
   "metadata": {},
   "source": [
    "When you `commit` a file with `git` it **hashes** the all the contents of that file, so a file with content:\n",
    "\n",
    "###### myfile.txt\n",
    "```\n",
    "a\n",
    "b\n",
    "c\n",
    "```\n",
    "\n",
    "might get hashed into something like: `asdfa393asd9fasd9asdfb9asd9f`. \n",
    "\n",
    "This will _always_ be the hash for this file, so if you change something in this file, for example:\n",
    "\n",
    "###### myfile.txt\n",
    "```\n",
    "a\n",
    "b\n",
    "d\n",
    "```\n",
    "\n",
    "The has will change to something completely different, like: `21243kjl1laksjdf3lkj232`.\n",
    "\n",
    "Not the problem with pickles are that they are compressed binary files, so instead of having clear text we have:\n",
    "\n",
    "\n",
    "###### afile.pck\n",
    "```\n",
    "��-�pandas.core.frame��\tDataFrame���)��}�(�_data��pandas.core.internals.managers��\n",
    "                                                                                          BlockManager���)��(]�(�pandas.core.indexes.base��\n",
    "_new_Index���h\n",
    "              �Index���}�(�data��numpy.core.multiarray��\n",
    "                                                        _reconstruct����numpy��ndarray���K��Cb���R�(KK��h�dtype����O8�KK��R�(K�|�NNNJ����J����K?t�b�]�(�SEQ_FR��CLIP_FR��METHOD�IN_POINT��\tOUT_POINT�et�b�n�andas.core.indexes.numeric��\n",
    "Int64Index���}�(hhhK��h��R�(KM��h�i8�KK��R�(K�<�NNNJ����J����Kt�b��t�bh+Nu��R�e]�(hhK��h��R�(KKM��h�f8�KK��R�(Kh9NNNJ����J����Kt�b�Bfffff�7@fffff�7@fffff�7@fffff�7@fffff�7@fffff�7@fffff�7@fffff�7@fffff�7@fffff�7@fffff�7@8@8@8@8@8@8@8@8@8@8@8@9@9@9@9@9@9@9@9@9@9@9@9@fffff�=@fffff�=@fffff�=@fffff�=@fffff�=@fffff�=@fffff�=@fffff�=@ff\n",
    "\n",
    "```\n",
    "\n",
    "Now this is no problem, but if this pickle is `1Gb`, it will get hashed and compressed to about `300Mb`. So now your git repo has increased in size by `300Mb` - keeping in mind the files with code are `<1Mb`. If you change this file the problem just amplifies, it'll get a new hash, but now a new compressed version also needs to be tracks, so your git repo is now `>600Mb`.\n",
    "\n",
    "This problem extends to notebooks as well - and the **ONLY** way I believe to push a notebook to git is by clearing all the cell's output. Especially if you've got big plotly graphs. "
   ]
  },
  {
   "cell_type": "markdown",
   "metadata": {},
   "source": [
    "## Writing notebooks in a way that helps you move it to a script."
   ]
  },
  {
   "cell_type": "markdown",
   "metadata": {},
   "source": [
    "Whenever you can, start abstracting pieces of code into functions. Usually a good rule of thumb is to convert each cell's code into a function, if you've written your cells to be little stand-alone pieces of code. For example:"
   ]
  },
  {
   "cell_type": "code",
   "execution_count": 8,
   "metadata": {
    "ExecuteTime": {
     "end_time": "2020-01-22T04:51:40.697312Z",
     "start_time": "2020-01-22T04:51:40.259591Z"
    }
   },
   "outputs": [],
   "source": [
    "import pandas as pd"
   ]
  },
  {
   "cell_type": "code",
   "execution_count": 9,
   "metadata": {
    "ExecuteTime": {
     "end_time": "2020-01-22T04:51:40.714507Z",
     "start_time": "2020-01-22T04:51:40.699359Z"
    }
   },
   "outputs": [
    {
     "data": {
      "text/html": [
       "<div>\n",
       "<style scoped>\n",
       "    .dataframe tbody tr th:only-of-type {\n",
       "        vertical-align: middle;\n",
       "    }\n",
       "\n",
       "    .dataframe tbody tr th {\n",
       "        vertical-align: top;\n",
       "    }\n",
       "\n",
       "    .dataframe thead th {\n",
       "        text-align: right;\n",
       "    }\n",
       "</style>\n",
       "<table border=\"1\" class=\"dataframe\">\n",
       "  <thead>\n",
       "    <tr style=\"text-align: right;\">\n",
       "      <th></th>\n",
       "      <th>TIME</th>\n",
       "      <th>TYPE</th>\n",
       "      <th>COUNT1</th>\n",
       "      <th>COUNT2</th>\n",
       "    </tr>\n",
       "  </thead>\n",
       "  <tbody>\n",
       "    <tr>\n",
       "      <th>0</th>\n",
       "      <td>0</td>\n",
       "      <td>red</td>\n",
       "      <td>0</td>\n",
       "      <td>0</td>\n",
       "    </tr>\n",
       "    <tr>\n",
       "      <th>1</th>\n",
       "      <td>1</td>\n",
       "      <td>blue</td>\n",
       "      <td>2</td>\n",
       "      <td>10</td>\n",
       "    </tr>\n",
       "    <tr>\n",
       "      <th>2</th>\n",
       "      <td>2</td>\n",
       "      <td>red</td>\n",
       "      <td>4</td>\n",
       "      <td>20</td>\n",
       "    </tr>\n",
       "    <tr>\n",
       "      <th>3</th>\n",
       "      <td>3</td>\n",
       "      <td>blue</td>\n",
       "      <td>6</td>\n",
       "      <td>30</td>\n",
       "    </tr>\n",
       "    <tr>\n",
       "      <th>4</th>\n",
       "      <td>4</td>\n",
       "      <td>red</td>\n",
       "      <td>8</td>\n",
       "      <td>40</td>\n",
       "    </tr>\n",
       "    <tr>\n",
       "      <th>5</th>\n",
       "      <td>5</td>\n",
       "      <td>blue</td>\n",
       "      <td>10</td>\n",
       "      <td>50</td>\n",
       "    </tr>\n",
       "    <tr>\n",
       "      <th>6</th>\n",
       "      <td>6</td>\n",
       "      <td>red</td>\n",
       "      <td>12</td>\n",
       "      <td>60</td>\n",
       "    </tr>\n",
       "    <tr>\n",
       "      <th>7</th>\n",
       "      <td>7</td>\n",
       "      <td>blue</td>\n",
       "      <td>14</td>\n",
       "      <td>70</td>\n",
       "    </tr>\n",
       "    <tr>\n",
       "      <th>8</th>\n",
       "      <td>8</td>\n",
       "      <td>red</td>\n",
       "      <td>16</td>\n",
       "      <td>80</td>\n",
       "    </tr>\n",
       "    <tr>\n",
       "      <th>9</th>\n",
       "      <td>9</td>\n",
       "      <td>blue</td>\n",
       "      <td>18</td>\n",
       "      <td>90</td>\n",
       "    </tr>\n",
       "  </tbody>\n",
       "</table>\n",
       "</div>"
      ],
      "text/plain": [
       "   TIME  TYPE  COUNT1  COUNT2\n",
       "0     0   red       0       0\n",
       "1     1  blue       2      10\n",
       "2     2   red       4      20\n",
       "3     3  blue       6      30\n",
       "4     4   red       8      40\n",
       "5     5  blue      10      50\n",
       "6     6   red      12      60\n",
       "7     7  blue      14      70\n",
       "8     8   red      16      80\n",
       "9     9  blue      18      90"
      ]
     },
     "execution_count": 9,
     "metadata": {},
     "output_type": "execute_result"
    }
   ],
   "source": [
    "df = pd.DataFrame({'TIME':list(range(0,10)),\n",
    "                   'TYPE':['red', 'blue']*5,\n",
    "                  'COUNT1':list(range(0,20))[0:20:2],\n",
    "                  'COUNT2':list(range(0,100))[0:100:10]})\n",
    "df"
   ]
  },
  {
   "cell_type": "code",
   "execution_count": 10,
   "metadata": {
    "ExecuteTime": {
     "end_time": "2020-01-22T04:51:40.734091Z",
     "start_time": "2020-01-22T04:51:40.716487Z"
    }
   },
   "outputs": [
    {
     "data": {
      "text/html": [
       "<div>\n",
       "<style scoped>\n",
       "    .dataframe tbody tr th:only-of-type {\n",
       "        vertical-align: middle;\n",
       "    }\n",
       "\n",
       "    .dataframe tbody tr th {\n",
       "        vertical-align: top;\n",
       "    }\n",
       "\n",
       "    .dataframe thead th {\n",
       "        text-align: right;\n",
       "    }\n",
       "</style>\n",
       "<table border=\"1\" class=\"dataframe\">\n",
       "  <thead>\n",
       "    <tr style=\"text-align: right;\">\n",
       "      <th></th>\n",
       "      <th>TIME</th>\n",
       "      <th>TYPE</th>\n",
       "      <th>CATEGORY</th>\n",
       "      <th>COUNT</th>\n",
       "    </tr>\n",
       "  </thead>\n",
       "  <tbody>\n",
       "    <tr>\n",
       "      <th>0</th>\n",
       "      <td>0</td>\n",
       "      <td>red</td>\n",
       "      <td>COUNT1</td>\n",
       "      <td>0</td>\n",
       "    </tr>\n",
       "    <tr>\n",
       "      <th>1</th>\n",
       "      <td>1</td>\n",
       "      <td>blue</td>\n",
       "      <td>COUNT1</td>\n",
       "      <td>2</td>\n",
       "    </tr>\n",
       "    <tr>\n",
       "      <th>2</th>\n",
       "      <td>2</td>\n",
       "      <td>red</td>\n",
       "      <td>COUNT1</td>\n",
       "      <td>4</td>\n",
       "    </tr>\n",
       "    <tr>\n",
       "      <th>3</th>\n",
       "      <td>3</td>\n",
       "      <td>blue</td>\n",
       "      <td>COUNT1</td>\n",
       "      <td>6</td>\n",
       "    </tr>\n",
       "    <tr>\n",
       "      <th>4</th>\n",
       "      <td>4</td>\n",
       "      <td>red</td>\n",
       "      <td>COUNT1</td>\n",
       "      <td>8</td>\n",
       "    </tr>\n",
       "    <tr>\n",
       "      <th>5</th>\n",
       "      <td>5</td>\n",
       "      <td>blue</td>\n",
       "      <td>COUNT1</td>\n",
       "      <td>10</td>\n",
       "    </tr>\n",
       "    <tr>\n",
       "      <th>6</th>\n",
       "      <td>6</td>\n",
       "      <td>red</td>\n",
       "      <td>COUNT1</td>\n",
       "      <td>12</td>\n",
       "    </tr>\n",
       "    <tr>\n",
       "      <th>7</th>\n",
       "      <td>7</td>\n",
       "      <td>blue</td>\n",
       "      <td>COUNT1</td>\n",
       "      <td>14</td>\n",
       "    </tr>\n",
       "    <tr>\n",
       "      <th>8</th>\n",
       "      <td>8</td>\n",
       "      <td>red</td>\n",
       "      <td>COUNT1</td>\n",
       "      <td>16</td>\n",
       "    </tr>\n",
       "    <tr>\n",
       "      <th>9</th>\n",
       "      <td>9</td>\n",
       "      <td>blue</td>\n",
       "      <td>COUNT1</td>\n",
       "      <td>18</td>\n",
       "    </tr>\n",
       "    <tr>\n",
       "      <th>10</th>\n",
       "      <td>0</td>\n",
       "      <td>red</td>\n",
       "      <td>COUNT2</td>\n",
       "      <td>0</td>\n",
       "    </tr>\n",
       "    <tr>\n",
       "      <th>11</th>\n",
       "      <td>1</td>\n",
       "      <td>blue</td>\n",
       "      <td>COUNT2</td>\n",
       "      <td>10</td>\n",
       "    </tr>\n",
       "    <tr>\n",
       "      <th>12</th>\n",
       "      <td>2</td>\n",
       "      <td>red</td>\n",
       "      <td>COUNT2</td>\n",
       "      <td>20</td>\n",
       "    </tr>\n",
       "    <tr>\n",
       "      <th>13</th>\n",
       "      <td>3</td>\n",
       "      <td>blue</td>\n",
       "      <td>COUNT2</td>\n",
       "      <td>30</td>\n",
       "    </tr>\n",
       "    <tr>\n",
       "      <th>14</th>\n",
       "      <td>4</td>\n",
       "      <td>red</td>\n",
       "      <td>COUNT2</td>\n",
       "      <td>40</td>\n",
       "    </tr>\n",
       "    <tr>\n",
       "      <th>15</th>\n",
       "      <td>5</td>\n",
       "      <td>blue</td>\n",
       "      <td>COUNT2</td>\n",
       "      <td>50</td>\n",
       "    </tr>\n",
       "    <tr>\n",
       "      <th>16</th>\n",
       "      <td>6</td>\n",
       "      <td>red</td>\n",
       "      <td>COUNT2</td>\n",
       "      <td>60</td>\n",
       "    </tr>\n",
       "    <tr>\n",
       "      <th>17</th>\n",
       "      <td>7</td>\n",
       "      <td>blue</td>\n",
       "      <td>COUNT2</td>\n",
       "      <td>70</td>\n",
       "    </tr>\n",
       "    <tr>\n",
       "      <th>18</th>\n",
       "      <td>8</td>\n",
       "      <td>red</td>\n",
       "      <td>COUNT2</td>\n",
       "      <td>80</td>\n",
       "    </tr>\n",
       "    <tr>\n",
       "      <th>19</th>\n",
       "      <td>9</td>\n",
       "      <td>blue</td>\n",
       "      <td>COUNT2</td>\n",
       "      <td>90</td>\n",
       "    </tr>\n",
       "  </tbody>\n",
       "</table>\n",
       "</div>"
      ],
      "text/plain": [
       "    TIME  TYPE CATEGORY  COUNT\n",
       "0      0   red   COUNT1      0\n",
       "1      1  blue   COUNT1      2\n",
       "2      2   red   COUNT1      4\n",
       "3      3  blue   COUNT1      6\n",
       "4      4   red   COUNT1      8\n",
       "5      5  blue   COUNT1     10\n",
       "6      6   red   COUNT1     12\n",
       "7      7  blue   COUNT1     14\n",
       "8      8   red   COUNT1     16\n",
       "9      9  blue   COUNT1     18\n",
       "10     0   red   COUNT2      0\n",
       "11     1  blue   COUNT2     10\n",
       "12     2   red   COUNT2     20\n",
       "13     3  blue   COUNT2     30\n",
       "14     4   red   COUNT2     40\n",
       "15     5  blue   COUNT2     50\n",
       "16     6   red   COUNT2     60\n",
       "17     7  blue   COUNT2     70\n",
       "18     8   red   COUNT2     80\n",
       "19     9  blue   COUNT2     90"
      ]
     },
     "execution_count": 10,
     "metadata": {},
     "output_type": "execute_result"
    }
   ],
   "source": [
    "df.melt(id_vars=['TIME', 'TYPE'],\n",
    "       var_name='CATEGORY',\n",
    "       value_name='COUNT')"
   ]
  },
  {
   "cell_type": "markdown",
   "metadata": {},
   "source": [
    "Now we'll refactor these into functions:"
   ]
  },
  {
   "cell_type": "code",
   "execution_count": 11,
   "metadata": {
    "ExecuteTime": {
     "end_time": "2020-01-22T04:51:40.740715Z",
     "start_time": "2020-01-22T04:51:40.735693Z"
    }
   },
   "outputs": [],
   "source": [
    "def create_data():\n",
    "    \"\"\"\n",
    "    Function that creates dummy data set\n",
    "    \n",
    "    Returns\n",
    "    pd.DataFrame()\n",
    "    \"\"\"\n",
    "    df = pd.DataFrame({'TIME':list(range(0,10)),\n",
    "                   'TYPE':['red', 'blue']*5,\n",
    "                  'COUNT1':list(range(0,20))[0:20:2],\n",
    "                  'COUNT2':list(range(0,100))[0:100:10]})\n",
    "    return df"
   ]
  },
  {
   "cell_type": "code",
   "execution_count": 12,
   "metadata": {
    "ExecuteTime": {
     "end_time": "2020-01-22T04:51:40.746764Z",
     "start_time": "2020-01-22T04:51:40.743025Z"
    }
   },
   "outputs": [],
   "source": [
    "def melt_df(df):\n",
    "    \"\"\"\n",
    "    Function that melts df and sets the columns headings.\n",
    "    \n",
    "    Parameters\n",
    "    df (pd.DataFrame)\n",
    "    \n",
    "    Returns\n",
    "    df (pd.DataFrame)\n",
    "    \"\"\"\n",
    "    df = df.melt(id_vars=['TIME', 'TYPE'],\n",
    "                 var_name='CATEGORY',\n",
    "                 value_name='COUNT')\n",
    "    \n",
    "    return df"
   ]
  },
  {
   "cell_type": "code",
   "execution_count": 13,
   "metadata": {
    "ExecuteTime": {
     "end_time": "2020-01-22T04:51:40.761863Z",
     "start_time": "2020-01-22T04:51:40.748704Z"
    }
   },
   "outputs": [
    {
     "data": {
      "text/html": [
       "<div>\n",
       "<style scoped>\n",
       "    .dataframe tbody tr th:only-of-type {\n",
       "        vertical-align: middle;\n",
       "    }\n",
       "\n",
       "    .dataframe tbody tr th {\n",
       "        vertical-align: top;\n",
       "    }\n",
       "\n",
       "    .dataframe thead th {\n",
       "        text-align: right;\n",
       "    }\n",
       "</style>\n",
       "<table border=\"1\" class=\"dataframe\">\n",
       "  <thead>\n",
       "    <tr style=\"text-align: right;\">\n",
       "      <th></th>\n",
       "      <th>TIME</th>\n",
       "      <th>TYPE</th>\n",
       "      <th>CATEGORY</th>\n",
       "      <th>COUNT</th>\n",
       "    </tr>\n",
       "  </thead>\n",
       "  <tbody>\n",
       "    <tr>\n",
       "      <th>0</th>\n",
       "      <td>0</td>\n",
       "      <td>red</td>\n",
       "      <td>COUNT1</td>\n",
       "      <td>0</td>\n",
       "    </tr>\n",
       "    <tr>\n",
       "      <th>1</th>\n",
       "      <td>1</td>\n",
       "      <td>blue</td>\n",
       "      <td>COUNT1</td>\n",
       "      <td>2</td>\n",
       "    </tr>\n",
       "    <tr>\n",
       "      <th>2</th>\n",
       "      <td>2</td>\n",
       "      <td>red</td>\n",
       "      <td>COUNT1</td>\n",
       "      <td>4</td>\n",
       "    </tr>\n",
       "    <tr>\n",
       "      <th>3</th>\n",
       "      <td>3</td>\n",
       "      <td>blue</td>\n",
       "      <td>COUNT1</td>\n",
       "      <td>6</td>\n",
       "    </tr>\n",
       "    <tr>\n",
       "      <th>4</th>\n",
       "      <td>4</td>\n",
       "      <td>red</td>\n",
       "      <td>COUNT1</td>\n",
       "      <td>8</td>\n",
       "    </tr>\n",
       "  </tbody>\n",
       "</table>\n",
       "</div>"
      ],
      "text/plain": [
       "   TIME  TYPE CATEGORY  COUNT\n",
       "0     0   red   COUNT1      0\n",
       "1     1  blue   COUNT1      2\n",
       "2     2   red   COUNT1      4\n",
       "3     3  blue   COUNT1      6\n",
       "4     4   red   COUNT1      8"
      ]
     },
     "execution_count": 13,
     "metadata": {},
     "output_type": "execute_result"
    }
   ],
   "source": [
    "df = create_data()\n",
    "df = melt_df(df)\n",
    "df.head()"
   ]
  },
  {
   "cell_type": "markdown",
   "metadata": {},
   "source": [
    "By making these pipelines functions, you can easily copy and paste them over to your scripts. Which brings us to the next piece of advice, that I myself forget sometimes. DRY! Don't Repeat Yourself!\n",
    "\n",
    "Try not to copy and paste functions and classes you've created in a previous notebook into the next. Rather, take the time, make a utils module, paste the code in there and import it into your next notebook. Not only does this promote you refactoring your code, but it also keeps your notebooks clean an tidy as you contiue through a project. "
   ]
  },
  {
   "cell_type": "code",
   "execution_count": null,
   "metadata": {},
   "outputs": [],
   "source": []
  }
 ],
 "metadata": {
  "kernelspec": {
   "display_name": "Python 3",
   "language": "python",
   "name": "python3"
  },
  "language_info": {
   "codemirror_mode": {
    "name": "ipython",
    "version": 3
   },
   "file_extension": ".py",
   "mimetype": "text/x-python",
   "name": "python",
   "nbconvert_exporter": "python",
   "pygments_lexer": "ipython3",
   "version": "3.7.6"
  },
  "toc": {
   "base_numbering": 1,
   "nav_menu": {},
   "number_sections": true,
   "sideBar": true,
   "skip_h1_title": true,
   "title_cell": "Table of Contents",
   "title_sidebar": "Contents",
   "toc_cell": false,
   "toc_position": {
    "height": "calc(100% - 180px)",
    "left": "10px",
    "top": "150px",
    "width": "292.1739196777344px"
   },
   "toc_section_display": true,
   "toc_window_display": true
  }
 },
 "nbformat": 4,
 "nbformat_minor": 4
}
